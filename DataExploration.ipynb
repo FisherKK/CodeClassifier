{
 "cells": [
  {
   "cell_type": "markdown",
   "metadata": {},
   "source": [
    "In this notebook I will try to take a closer look at the data given to me and write my thoughts."
   ]
  },
  {
   "cell_type": "markdown",
   "metadata": {},
   "source": [
    "#### Import"
   ]
  },
  {
   "cell_type": "code",
   "execution_count": 128,
   "metadata": {},
   "outputs": [],
   "source": [
    "import os, re\n",
    "from collections import Counter\n",
    "\n",
    "import pandas as pd\n",
    "import numpy as np\n",
    "import matplotlib.pyplot as plt\n",
    "\n",
    "from sklearn.feature_extraction.text import CountVectorizer\n",
    "\n",
    "%matplotlib inline"
   ]
  },
  {
   "cell_type": "markdown",
   "metadata": {},
   "source": [
    "#### Constants"
   ]
  },
  {
   "cell_type": "code",
   "execution_count": 129,
   "metadata": {},
   "outputs": [],
   "source": [
    "DATA_DIR = \"data\"\n",
    "CHALLENGE_DATA_FILENAME = \"data.csv\""
   ]
  },
  {
   "cell_type": "markdown",
   "metadata": {},
   "source": [
    "#### Loading Data"
   ]
  },
  {
   "cell_type": "code",
   "execution_count": 130,
   "metadata": {},
   "outputs": [],
   "source": [
    "filepath = os.path.join(DATA_DIR, CHALLENGE_DATA_FILENAME)\n",
    "df_data = pd.read_csv(filepath, sep=\",\")"
   ]
  },
  {
   "cell_type": "code",
   "execution_count": 131,
   "metadata": {},
   "outputs": [],
   "source": [
    "df_data_cpy = df_data.copy()"
   ]
  },
  {
   "cell_type": "markdown",
   "metadata": {},
   "source": [
    "### General"
   ]
  },
  {
   "cell_type": "code",
   "execution_count": 132,
   "metadata": {},
   "outputs": [
    {
     "data": {
      "text/html": [
       "<div>\n",
       "<style>\n",
       "    .dataframe thead tr:only-child th {\n",
       "        text-align: right;\n",
       "    }\n",
       "\n",
       "    .dataframe thead th {\n",
       "        text-align: left;\n",
       "    }\n",
       "\n",
       "    .dataframe tbody tr th {\n",
       "        vertical-align: top;\n",
       "    }\n",
       "</style>\n",
       "<table border=\"1\" class=\"dataframe\">\n",
       "  <thead>\n",
       "    <tr style=\"text-align: right;\">\n",
       "      <th></th>\n",
       "      <th>language</th>\n",
       "      <th>proj_id</th>\n",
       "      <th>file_id</th>\n",
       "      <th>file_body</th>\n",
       "    </tr>\n",
       "  </thead>\n",
       "  <tbody>\n",
       "    <tr>\n",
       "      <th>0</th>\n",
       "      <td>JavaScript</td>\n",
       "      <td>10001</td>\n",
       "      <td>100001</td>\n",
       "      <td>// Functions as values of a variable\\nvar cube...</td>\n",
       "    </tr>\n",
       "    <tr>\n",
       "      <th>1</th>\n",
       "      <td>JavaScript</td>\n",
       "      <td>10001</td>\n",
       "      <td>100002</td>\n",
       "      <td>// Functions as values of a variable\\nvar cube...</td>\n",
       "    </tr>\n",
       "    <tr>\n",
       "      <th>2</th>\n",
       "      <td>JavaScript</td>\n",
       "      <td>10002</td>\n",
       "      <td>100003</td>\n",
       "      <td>function median(ary) {\\n    if (ary.length == ...</td>\n",
       "    </tr>\n",
       "    <tr>\n",
       "      <th>3</th>\n",
       "      <td>JavaScript</td>\n",
       "      <td>10002</td>\n",
       "      <td>100004</td>\n",
       "      <td>[\\n  null,\\n  4,\\n  3.5,\\n  2.1\\n]\\n</td>\n",
       "    </tr>\n",
       "    <tr>\n",
       "      <th>4</th>\n",
       "      <td>JavaScript</td>\n",
       "      <td>10002</td>\n",
       "      <td>100005</td>\n",
       "      <td>(() =&gt; {\\n    'use strict';\\n\\n    // median :...</td>\n",
       "    </tr>\n",
       "  </tbody>\n",
       "</table>\n",
       "</div>"
      ],
      "text/plain": [
       "     language  proj_id  file_id  \\\n",
       "0  JavaScript    10001   100001   \n",
       "1  JavaScript    10001   100002   \n",
       "2  JavaScript    10002   100003   \n",
       "3  JavaScript    10002   100004   \n",
       "4  JavaScript    10002   100005   \n",
       "\n",
       "                                           file_body  \n",
       "0  // Functions as values of a variable\\nvar cube...  \n",
       "1  // Functions as values of a variable\\nvar cube...  \n",
       "2  function median(ary) {\\n    if (ary.length == ...  \n",
       "3               [\\n  null,\\n  4,\\n  3.5,\\n  2.1\\n]\\n  \n",
       "4  (() => {\\n    'use strict';\\n\\n    // median :...  "
      ]
     },
     "execution_count": 132,
     "metadata": {},
     "output_type": "execute_result"
    }
   ],
   "source": [
    "df_data_cpy.head()"
   ]
  },
  {
   "cell_type": "code",
   "execution_count": 133,
   "metadata": {},
   "outputs": [
    {
     "name": "stdout",
     "output_type": "stream",
     "text": [
      "Number of data samples: 16272\n"
     ]
    }
   ],
   "source": [
    "print(\"Number of data samples: {}\".format(df_data_cpy.shape[0]))"
   ]
  },
  {
   "cell_type": "code",
   "execution_count": 134,
   "metadata": {},
   "outputs": [
    {
     "name": "stdout",
     "output_type": "stream",
     "text": [
      "Number of programming languages: 19\n",
      "Distinct programming languages: ['JavaScript' 'Swift' 'Python' 'Java' 'C++' 'Ruby' 'Rust' 'C' 'Scala' 'R'\n",
      " 'Go' 'Mathematica' 'Kotlin' 'Fortran' 'Julia' 'PHP' 'MATLAB' 'Haskell'\n",
      " 'Perl']\n"
     ]
    }
   ],
   "source": [
    "print(\"Number of programming languages: {}\".format(len(df_data_cpy[\"language\"].unique())))\n",
    "print(\"Distinct programming languages: {}\".format(df_data_cpy[\"language\"].unique()))"
   ]
  },
  {
   "cell_type": "code",
   "execution_count": 135,
   "metadata": {},
   "outputs": [
    {
     "name": "stdout",
     "output_type": "stream",
     "text": [
      "Number of projects: 10009\n"
     ]
    }
   ],
   "source": [
    "print(\"Number of projects: {}\".format(len(df_data_cpy[\"proj_id\"].unique())))"
   ]
  },
  {
   "cell_type": "code",
   "execution_count": 136,
   "metadata": {},
   "outputs": [
    {
     "name": "stdout",
     "output_type": "stream",
     "text": [
      "Number of unique file ids: 16272\n"
     ]
    }
   ],
   "source": [
    "print(\"Number of unique file ids: {}\".format(len(df_data_cpy[\"file_id\"].unique())))"
   ]
  },
  {
   "cell_type": "code",
   "execution_count": 137,
   "metadata": {},
   "outputs": [
    {
     "name": "stdout",
     "output_type": "stream",
     "text": [
      "Do any of columns have null values?\n",
      "   - language       : False\n",
      "   - proj_id        : False\n",
      "   - file_id        : False\n",
      "   - file_body      : True\n"
     ]
    }
   ],
   "source": [
    "print(\"Do any of columns have null values?\")\n",
    "for col in df_data_cpy.columns:\n",
    "    print(\"   - {}\".format(col).ljust(20) + \": {}\".format(df_data_cpy[col].isnull().any()))"
   ]
  },
  {
   "cell_type": "code",
   "execution_count": 138,
   "metadata": {},
   "outputs": [
    {
     "name": "stdout",
     "output_type": "stream",
     "text": [
      "Rows ids with empty file body fields:\n"
     ]
    },
    {
     "data": {
      "text/plain": [
       "1163     NaN\n",
       "9951     NaN\n",
       "12227    NaN\n",
       "15290    NaN\n",
       "Name: file_body, dtype: object"
      ]
     },
     "execution_count": 138,
     "metadata": {},
     "output_type": "execute_result"
    }
   ],
   "source": [
    "print(\"Rows ids with empty file body fields:\")\n",
    "df_data_cpy[\"file_body\"][df_data_cpy[\"file_body\"].isnull()]"
   ]
  },
  {
   "cell_type": "code",
   "execution_count": 139,
   "metadata": {},
   "outputs": [
    {
     "name": "stdout",
     "output_type": "stream",
     "text": [
      "Removing rows with NaN 'file_body'\n"
     ]
    }
   ],
   "source": [
    "print(\"Removing rows with NaN 'file_body'\")\n",
    "df_data_cpy = df_data_cpy[~df_data_cpy[\"file_body\"].isnull()]"
   ]
  },
  {
   "cell_type": "markdown",
   "metadata": {},
   "source": [
    "#### Conclusions\n",
    "- problem to solve is of classification type\n",
    "- there are 19 different classes to predict\n",
    "- no problem with class names (e.g. JavaScript vs javascript vs Java Script permutations)\n",
    "- `file_id` is just an index field\n",
    "- `proj_id` can have many files associated with it\n",
    "- there were 4 samples with empty `file_body` and had to be removed\n",
    "- model can only be based on features extracted via Natural Language Processing techniques"
   ]
  },
  {
   "cell_type": "markdown",
   "metadata": {},
   "source": [
    "### Available samples per class"
   ]
  },
  {
   "cell_type": "code",
   "execution_count": 140,
   "metadata": {},
   "outputs": [
    {
     "data": {
      "image/png": "[encoded data removed]",
      "text/plain": [
       "<matplotlib.figure.Figure at 0x10a515630>"
      ]
     },
     "metadata": {},
     "output_type": "display_data"
    }
   ],
   "source": [
    "ax = df_data_cpy[\"language\"].value_counts().plot(\"bar\", figsize=(20,4))\n",
    "\n",
    "ax.set_title(\"Prediction class count\")\n",
    "ax.grid(color='blue', linestyle='--', linewidth=1, alpha=0.2)\n",
    "ax.spines[\"top\"].set_visible(False)\n",
    "ax.spines[\"right\"].set_visible(False)\n",
    "ax.spines[\"bottom\"].set_visible(False)\n",
    "ax.spines[\"left\"].set_visible(False);"
   ]
  },
  {
   "cell_type": "markdown",
   "metadata": {},
   "source": [
    "#### Conclusions\n",
    "- there is unequal number of samples per class\n",
    "- there is 'enough' data to build a model but as it's programming language classification problem then getting additional data from web shouldn't be a problem and would for sure help\n",
    "- difference between samples number isn't very big but I am not sure if `accuracy` metric would work, as there is no business side related to the problem then it is impossible to say if `recall` or `precision` would be better metric so I would try also `f1_score` or `auc`\n",
    "- for sure `k-fold cross validation` should be used for model validation and test set should contain all classes"
   ]
  },
  {
   "cell_type": "markdown",
   "metadata": {},
   "source": [
    "### Length of code snipets"
   ]
  },
  {
   "cell_type": "code",
   "execution_count": 141,
   "metadata": {},
   "outputs": [],
   "source": [
    "df_data_cpy[\"file_body_length\"] = df_data_cpy[\"file_body\"].apply(lambda x: len(x))"
   ]
  },
  {
   "cell_type": "code",
   "execution_count": 142,
   "metadata": {},
   "outputs": [
    {
     "data": {
      "image/png": "[encoded data removed]",
      "text/plain": [
       "<matplotlib.figure.Figure at 0x111d49898>"
      ]
     },
     "metadata": {},
     "output_type": "display_data"
    }
   ],
   "source": [
    "f, axarr = plt.subplots(\n",
    "    int(np.ceil(len(df_data_cpy[\"language\"].unique()) / 3)), 3, figsize=(20, 28))\n",
    "\n",
    "plt.subplots_adjust(hspace=0.65, wspace=0.2)\n",
    "\n",
    "row, col = 0, 0\n",
    "for i, language in enumerate(df_data_cpy[\"language\"].unique()):\n",
    "    col = i % 3\n",
    "\n",
    "    df = df_data_cpy.loc[df_data_cpy[\"language\"] == language]    \n",
    "    axarr[row, col].hist(df[\"file_body_length\"], bins=200)\n",
    "    axarr[row, col].set_title(\"{} (min: {}, max: {}, median: {})\".format(\n",
    "        language, df[\"file_body_length\"].min(), df[\"file_body_length\"].max(), \n",
    "        df[\"file_body_length\"].median()))\n",
    "    axarr[row, col].set_ylabel(\"Frequency\")\n",
    "    axarr[row, col].set_xlabel(\"Number of characters per file body\")\n",
    "    axarr[row, col].spines[\"top\"].set_visible(False)\n",
    "    axarr[row, col].spines[\"right\"].set_visible(False)\n",
    "    axarr[row, col].spines[\"bottom\"].set_visible(False)\n",
    "    axarr[row, col].spines[\"left\"].set_visible(False)\n",
    "    axarr[row, col].grid(color='blue', linestyle='--', linewidth=1, alpha=0.2)\n",
    "#     axarr[row, col].set_xticks(np.arange(0, df_data_cpy[\"file_body_length\"].max(), 4000))\n",
    "#     axarr[row, col].set_yticks(np.arange(0, np.max(df_data_cpy[\"language\"].value_counts()), 100))\n",
    "    \n",
    "    if col == 2:\n",
    "        row += 1\n",
    "        \n",
    "for k in range(len(df_data_cpy[\"language\"].unique()), (row + 1) * 3):\n",
    "    axarr[row, k % 3].set_visible(False)"
   ]
  },
  {
   "cell_type": "markdown",
   "metadata": {},
   "source": [
    "#### Conclusions\n",
    "- majority of files has more than one hundred characters which is good\n",
    "- I am curious about small files because they could not contain even a word - but only characters related to programming language (e.g. `{}` is a Python empty dictionary). It makes me think about data cleaning process - my first thought was to ignore character and focus on programming language words, but now I started to think that special characters are also very important"
   ]
  },
  {
   "cell_type": "code",
   "execution_count": 143,
   "metadata": {},
   "outputs": [
    {
     "name": "stdout",
     "output_type": "stream",
     "text": [
      "Shortest possible files per language: \n",
      "- JavaScript:\n",
      "'5\\n'\n",
      "\n",
      "\n",
      "- Swift:\n",
      "'MyClass()\\n'\n",
      "\n",
      "\n",
      "- Python:\n",
      "'2.3\\n'\n",
      "\n",
      "\n",
      "- Java:\n",
      "'myMethod()\\n'\n",
      "\n",
      "\n",
      "- C++:\n",
      "'int a;\\n'\n",
      "\n",
      "\n",
      "- Ruby:\n",
      "'values.max\\n'\n",
      "\n",
      "\n",
      "- Rust:\n",
      "'fn main(){}\\n'\n",
      "\n",
      "\n",
      "- C:\n",
      "'int j;\\n'\n",
      "\n",
      "\n",
      "- Scala:\n",
      "\"val c = 'c'\\n\"\n",
      "\n",
      "\n",
      "- R:\n",
      "'> env\\n'\n",
      "\n",
      "\n",
      "- Go:\n",
      "'&s{}\\n'\n",
      "\n",
      "\n",
      "- Mathematica:\n",
      "'x\\n'\n",
      "\n",
      "\n",
      "- Kotlin:\n",
      "'fun main(a: Array<String>) {}\\n'\n",
      "\n",
      "\n",
      "- Fortran:\n",
      "'a = 0\\n'\n",
      "\n",
      "\n",
      "- Julia:\n",
      "\"A'\\n\"\n",
      "\n",
      "\n",
      "- PHP:\n",
      "'INF\\n'\n",
      "\n",
      "\n",
      "- MATLAB:\n",
      "'pi\\n'\n",
      "\n",
      "\n",
      "- Haskell:\n",
      "'\\\\\\n'\n",
      "\n",
      "\n",
      "- Perl:\n",
      "'foo;\\n'\n",
      "\n",
      "\n"
     ]
    }
   ],
   "source": [
    "print(\"Shortest possible files per language: \")\n",
    "for language in df_data_cpy[\"language\"].unique():\n",
    "    df = df_data_cpy.loc[(df_data_cpy[\"language\"] == language)]\n",
    "    df = df.loc[df[\"file_body_length\"] == df[\"file_body_length\"].min()]\n",
    "    print(\"- {}:\".format(language))\n",
    "    print(repr(df[\"file_body\"].as_matrix()[0]))\n",
    "    print(\"\\n\")\n"
   ]
  },
  {
   "cell_type": "markdown",
   "metadata": {},
   "source": [
    "#### Conclusions\n",
    "- as I thought there will be files that doesn't have enough information to be classified to any language - `5` of `JavaScript` can be anything... \n",
    "- some data samples could be manually cleaned or samples with min character less than some reasonable threshold (let's say 15 characters) can be dropped\n",
    "- this is very general problem, we should not be afraid to drop poor data, internet is endless source of it\n",
    "- data can be left and used for training if we want to overfit to given dataset (because I wouldn't call training `5` = `JavaScript` as reasonable thing to do)"
   ]
  },
  {
   "cell_type": "code",
   "execution_count": 144,
   "metadata": {},
   "outputs": [
    {
     "name": "stdout",
     "output_type": "stream",
     "text": [
      "Samples lost per 'min_character_test' value: \n",
      " - 10: 79 (0.49%)\n",
      " - 13: 149 (0.92%)\n",
      " - 15: 195 (1.2%)\n",
      " - 17: 239 (1.47%)\n",
      " - 20: 337 (2.07%)\n",
      " - 23: 428 (2.63%)\n",
      " - 25: 500 (3.07%)\n",
      " - 27: 567 (3.48%)\n",
      " - 30: 701 (4.31%)\n"
     ]
    }
   ],
   "source": [
    "print(\"Samples lost per 'min_character_test' value: \")\n",
    "for min_character_test in [10, 13, 15, 17, 20, 23, 25, 27, 30]:\n",
    "    df = df_data_cpy.loc[df_data_cpy[\"file_body_length\"] > min_character_test]\n",
    "    diff = df_data.shape[0] - df.shape[0]\n",
    "    print(\" - {}: {} ({}%)\".format(\n",
    "        min_character_test, diff, np.round((diff * 100.0) / df_data.shape[0], 2)))"
   ]
  },
  {
   "cell_type": "markdown",
   "metadata": {},
   "source": [
    "### Sneak peek at code"
   ]
  },
  {
   "cell_type": "code",
   "execution_count": 145,
   "metadata": {},
   "outputs": [
    {
     "name": "stdout",
     "output_type": "stream",
     "text": [
      "/*Abhishek Ghosh, 6th November 2013, Rotterdam*/\n",
      "#include<graphics.h>\n",
      "#include<conio.h>\n",
      "\n",
      "int main()\n",
      "{\n",
      "\tint d=DETECT,m,maxX,maxY,maxColours,i;\n",
      "\tinitgraph(&d,&m,\"c:/turboc3/bgi\");\n",
      "\tmaxX = getmaxx();\n",
      "\tmaxY = getmaxy();\n",
      "\tmaxColours = getmaxcolor();\n",
      "\n",
      "\tfor(i=0;i<maxColours;i++)\n",
      "\t{\n",
      "\t\tsetfillstyle(SOLID_FILL,i);\n",
      "\t\tbar(i*maxX/maxColours,0,(i+1)*maxX/maxColours,maxY);\n",
      "\t}\n",
      "\n",
      "\tgetch();\n",
      "\tclosegraph();\n",
      "\t\n",
      "\treturn 0;\n",
      "}\n",
      "\n"
     ]
    }
   ],
   "source": [
    "print(df_data_cpy[\"file_body\"].iloc[6466])"
   ]
  },
  {
   "cell_type": "code",
   "execution_count": 146,
   "metadata": {},
   "outputs": [
    {
     "name": "stdout",
     "output_type": "stream",
     "text": [
      "let numberOfBytesUTF16 = \"møøse\".utf16.count * 2           // 10\n",
      "\n"
     ]
    }
   ],
   "source": [
    "print(df_data_cpy[\"file_body\"].iloc[1200])"
   ]
  },
  {
   "cell_type": "code",
   "execution_count": 147,
   "metadata": {},
   "outputs": [
    {
     "name": "stdout",
     "output_type": "stream",
     "text": [
      "// Adapted from http://www-cs-faculty.stanford.edu/~uno/programs/topswops.w\n",
      "// at Donald Knuth's web site.  Algorithm credited there to Pepperdine\n",
      "// and referenced to Mathematical Gazette 73 (1989), 131-133.\n",
      "package main\n",
      "\n",
      "import \"fmt\"\n",
      "\n",
      "const ( // array sizes\n",
      "    maxn = 10 // max number of cards\n",
      "    maxl = 50 // upper bound for number of steps\n",
      ")\n",
      "\n",
      "func main() {\n",
      "    for i := 1; i <= maxn; i++ {\n",
      "        fmt.Printf(\"%d: %d\\n\", i, steps(i))\n",
      "    }\n",
      "}\n",
      "\n",
      "func steps(n int) int {\n",
      "    var a, b [maxl][maxn + 1]int\n",
      "    var x [maxl]int\n",
      "    a[0][0] = 1\n",
      "    var m int\n",
      "    for l := 0; ; {\n",
      "        x[l]++\n",
      "        k := int(x[l])\n",
      "        if k >= n {\n",
      "            if l <= 0 {\n",
      "                break\n",
      "            }\n",
      "            l--\n",
      "            continue\n",
      "        }\n",
      "        if a[l][k] == 0 {\n",
      "            if b[l][k+1] != 0 {\n",
      "                continue\n",
      "            }\n",
      "        } else if a[l][k] != k+1 {\n",
      "            continue\n",
      "        }\n",
      "        a[l+1] = a[l]\n",
      "        for j := 1; j <= k; j++ {\n",
      "            a[l+1][j] = a[l][k-j]\n",
      "        }\n",
      "        b[l+1] = b[l]\n",
      "        a[l+1][0] = k + 1\n",
      "        b[l+1][k+1] = 1\n",
      "        if l > m-1 {\n",
      "            m = l + 1\n",
      "        }\n",
      "        l++\n",
      "        x[l] = 0\n",
      "    }\n",
      "    return m\n",
      "}\n",
      "\n"
     ]
    }
   ],
   "source": [
    "print(df_data_cpy[\"file_body\"].iloc[9002])"
   ]
  },
  {
   "cell_type": "code",
   "execution_count": 148,
   "metadata": {},
   "outputs": [
    {
     "name": "stdout",
     "output_type": "stream",
     "text": [
      ">>> for n in (254, 255, 256, 257, -2+(1<<16), -1+(1<<16), 1<<16, 1+(1<<16), 0x200000, 0x1fffff ):\n",
      "    print('int: %7i bin: %26s vlq: %35s vlq->int: %7i' % (n, tobits(n,_pad=True), tovlq(n), toint(tovlq(n))))\n",
      "\n",
      "\n",
      "int:     254 bin:                   11111110 vlq:                   00000001_11111110 vlq->int:     254\n",
      "int:     255 bin:                   11111111 vlq:                   00000001_11111111 vlq->int:     255\n",
      "int:     256 bin:          00000001_00000000 vlq:                   00000010_10000000 vlq->int:     256\n",
      "int:     257 bin:          00000001_00000001 vlq:                   00000010_10000001 vlq->int:     257\n",
      "int:   65534 bin:          11111111_11111110 vlq:          00000011_11111111_11111110 vlq->int:   65534\n",
      "int:   65535 bin:          11111111_11111111 vlq:          00000011_11111111_11111111 vlq->int:   65535\n",
      "int:   65536 bin: 00000001_00000000_00000000 vlq:          00000100_10000000_10000000 vlq->int:   65536\n",
      "int:   65537 bin: 00000001_00000000_00000001 vlq:          00000100_10000000_10000001 vlq->int:   65537\n",
      "int: 2097152 bin: 00100000_00000000_00000000 vlq: 00000001_10000000_10000000_10000000 vlq->int: 2097152\n",
      "int: 2097151 bin: 00011111_11111111_11111111 vlq:          01111111_11111111_11111111 vlq->int: 2097151\n",
      ">>> vlqsend(tovlq(0x200000))\n",
      "Sent byte   0: 0x80\n",
      "Sent byte   1: 0x80\n",
      "Sent byte   2: 0x80\n",
      "Sent byte   3: 0x01\n",
      ">>> vlqsend(tovlq(0x1fffff))\n",
      "Sent byte   0: 0xff\n",
      "Sent byte   1: 0xff\n",
      "Sent byte   2: 0x7f\n",
      ">>>\n",
      "\n"
     ]
    }
   ],
   "source": [
    "print(df_data_cpy[\"file_body\"].iloc[2500])"
   ]
  },
  {
   "cell_type": "code",
   "execution_count": 149,
   "metadata": {},
   "outputs": [
    {
     "name": "stdout",
     "output_type": "stream",
     "text": [
      "#include <stdio.h>\n",
      "#include <X11/Xlib.h>\n",
      "\n",
      "int main()\n",
      "{\n",
      "  Display *d;\n",
      "  Window inwin;      /* root window the pointer is in */\n",
      "  Window inchildwin; /* child win the pointer is in */\n",
      "  int rootx, rooty; /* relative to the \"root\" window; we are not interested in these,\n",
      "                       but we can't pass NULL */\n",
      "  int childx, childy;  /* the values we are interested in */\n",
      "  Atom atom_type_prop; /* not interested */\n",
      "  int actual_format;   /* should be 32 after the call */\n",
      "  unsigned int mask;   /* status of the buttons */\n",
      "  unsigned long n_items, bytes_after_ret;\n",
      "  Window *props; /* since we are interested just in the first value, which is\n",
      "\t\t    a Window id */\n",
      "\n",
      "  /* default DISPLAY */\n",
      "  d = XOpenDisplay(NULL);\n",
      "\n",
      "  /* ask for active window (no error check); the client must be freedesktop\n",
      "     compliant */\n",
      "  (void)XGetWindowProperty(d, DefaultRootWindow(d),\n",
      "\t\t\t   XInternAtom(d, \"_NET_ACTIVE_WINDOW\", True),\n",
      "\t\t\t   0, 1, False, AnyPropertyType,\n",
      "\t\t\t   &atom_type_prop, &actual_format,\n",
      "\t\t\t   &n_items, &bytes_after_ret, (unsigned char**)&props);\n",
      "\t\t\t\n",
      "  XQueryPointer(d, props[0], &inwin,  &inchildwin,\n",
      "\t\t&rootx, &rooty, &childx, &childy, &mask);\n",
      "  printf(\"relative to active window: %d,%d\\n\", childx, childy);\n",
      "\n",
      "  XFree(props);           /* free mem */\n",
      "  (void)XCloseDisplay(d); /* and close the display */\n",
      "  return 0;\n",
      "}\n",
      "\n"
     ]
    }
   ],
   "source": [
    "print(df_data_cpy[\"file_body\"].iloc[6500])"
   ]
  },
  {
   "cell_type": "markdown",
   "metadata": {},
   "source": [
    "#### Conclusions"
   ]
  },
  {
   "cell_type": "markdown",
   "metadata": {},
   "source": [
    "- code contains coments, special characters, numbers, links, people names, languages other than english\n",
    "- seems like apart from words the special characters and special character + word sequences are important in classifying programming language (Word2Vec + LSTM maybe could be useful? As LSTM is capable of text generation and grasping the structure of characters...)\n",
    "- maybe removing digits could improve model performance as they appear everywhere\n",
    "- missleading words like names, links should appear rarely so it will be good idea to drop words with low frequency from dictionary"
   ]
  },
  {
   "cell_type": "markdown",
   "metadata": {},
   "source": [
    "### Most popular programming words"
   ]
  },
  {
   "cell_type": "code",
   "execution_count": 150,
   "metadata": {},
   "outputs": [],
   "source": [
    "def tokenize(x):\n",
    "    words = re.findall('(?u)\\\\b\\\\w\\\\w+\\\\b', x)\n",
    "    return [w.lower() for w in words]"
   ]
  },
  {
   "cell_type": "code",
   "execution_count": 151,
   "metadata": {
    "scrolled": false
   },
   "outputs": [
    {
     "name": "stdout",
     "output_type": "stream",
     "text": [
      "------- JavaScript -------\n",
      "- most common 30 words:\n",
      "['var', 'return', 'function', 'xs', 'length', 'if', 'const', 'for', 'this', 'map', 'math', 'the', 'int', 'array', 'string', 'of', 'new', 'concat', '10', 'log', 'to', 'console', 'join', 'in', 'let', 'slice', 'range', 'document', 'value', 'name']\n",
      "\n",
      "- all words in JavaScript: 6481\n",
      "- unique words for JavaScript: 1930\n",
      "\n",
      "- shared words with Swift: 1386\n",
      "- shared words with Python: 2958\n",
      "- shared words with Java: 2738\n",
      "- shared words with C++: 2495\n",
      "- shared words with Ruby: 2596\n",
      "- shared words with Rust: 1721\n",
      "- shared words with C: 2816\n",
      "- shared words with Scala: 2437\n",
      "- shared words with R: 1809\n",
      "- shared words with Go: 2892\n",
      "- shared words with Mathematica: 1800\n",
      "- shared words with Kotlin: 2425\n",
      "- shared words with Fortran: 2490\n",
      "- shared words with Julia: 1849\n",
      "- shared words with PHP: 1777\n",
      "- shared words with MATLAB: 1592\n",
      "- shared words with Haskell: 2841\n",
      "- shared words with Perl: 2549\n",
      "\n",
      "\n",
      "------- Swift -------\n",
      "- most common 30 words:\n",
      "['let', 'var', 'int', 'return', 'func', 'println', 'if', 'in', 'string', 'for', 'count', 'self', 'print', 'case', 'double', 'the', 'else', 'result', 'of', 'is', 'value', 'import', 'str', 'false', 'list', 'bool', 'while', 'true', '10', 'nil']\n",
      "\n",
      "- all words in Swift: 2748\n",
      "- unique words for Swift: 646\n",
      "\n",
      "- shared words with JavaScript: 1386\n",
      "- shared words with Python: 1605\n",
      "- shared words with Java: 1587\n",
      "- shared words with C++: 1403\n",
      "- shared words with Ruby: 1485\n",
      "- shared words with Rust: 1103\n",
      "- shared words with C: 1496\n",
      "- shared words with Scala: 1406\n",
      "- shared words with R: 999\n",
      "- shared words with Go: 1610\n",
      "- shared words with Mathematica: 996\n",
      "- shared words with Kotlin: 1384\n",
      "- shared words with Fortran: 1383\n",
      "- shared words with Julia: 1060\n",
      "- shared words with PHP: 1086\n",
      "- shared words with MATLAB: 978\n",
      "- shared words with Haskell: 1479\n",
      "- shared words with Perl: 1432\n",
      "\n",
      "\n",
      "------- Python -------\n",
      "- most common 30 words:\n",
      "['in', 'for', 'if', 'def', 'print', 'self', 'return', 'the', 'import', 'range', 'from', 'len', 'and', 'of', 'to', '10', 'else', 'is', 'not', 'true', 'while', 'int', 'join', 'none', 'list', 'value', 'append', 'false', 'lambda', 'random']\n",
      "\n",
      "- all words in Python: 9761\n",
      "- unique words for Python: 2873\n",
      "\n",
      "- shared words with JavaScript: 2958\n",
      "- shared words with Swift: 1605\n",
      "- shared words with Java: 3589\n",
      "- shared words with C++: 3296\n",
      "- shared words with Ruby: 3893\n",
      "- shared words with Rust: 2066\n",
      "- shared words with C: 4292\n",
      "- shared words with Scala: 3076\n",
      "- shared words with R: 2138\n",
      "- shared words with Go: 4021\n",
      "- shared words with Mathematica: 2381\n",
      "- shared words with Kotlin: 3327\n",
      "- shared words with Fortran: 3148\n",
      "- shared words with Julia: 2544\n",
      "- shared words with PHP: 2078\n",
      "- shared words with MATLAB: 1944\n",
      "- shared words with Haskell: 3935\n",
      "- shared words with Perl: 3643\n",
      "\n",
      "\n",
      "------- Java -------\n",
      "- most common 30 words:\n",
      "['int', 'public', 'string', 'new', 'static', 'if', 'system', 'out', 'return', 'for', 'import', 'void', 'java', 'println', 'double', 'the', 'class', 'private', 'length', 'args', 'main', 'add', 'util', 'integer', 'list', 'this', 'final', 'null', 'else', 'long']\n",
      "\n",
      "- all words in Java: 8258\n",
      "- unique words for Java: 2274\n",
      "\n",
      "- shared words with JavaScript: 2738\n",
      "- shared words with Swift: 1587\n",
      "- shared words with Python: 3589\n",
      "- shared words with C++: 2889\n",
      "- shared words with Ruby: 3138\n",
      "- shared words with Rust: 1819\n",
      "- shared words with C: 3356\n",
      "- shared words with Scala: 3405\n",
      "- shared words with R: 1845\n",
      "- shared words with Go: 3402\n",
      "- shared words with Mathematica: 2082\n",
      "- shared words with Kotlin: 3608\n",
      "- shared words with Fortran: 2730\n",
      "- shared words with Julia: 2081\n",
      "- shared words with PHP: 1870\n",
      "- shared words with MATLAB: 1783\n",
      "- shared words with Haskell: 3242\n",
      "- shared words with Perl: 2947\n",
      "\n",
      "\n",
      "------- C++ -------\n",
      "- most common 30 words:\n",
      "['std', 'int', 'include', 'return', 'cout', 'if', 'for', 'string', 'const', 'endl', 'the', 'void', 'vector', 'main', 'end', 'begin', 'double', 'iostream', 'char', 'class', 'unsigned', 'size', 'of', 'boost', 'push_back', 'to', 'is', 'sizeof', 'else', 'template']\n",
      "\n",
      "- all words in C++: 7422\n",
      "- unique words for C++: 2423\n",
      "\n",
      "- shared words with JavaScript: 2495\n",
      "- shared words with Swift: 1403\n",
      "- shared words with Python: 3296\n",
      "- shared words with Java: 2889\n",
      "- shared words with Ruby: 2775\n",
      "- shared words with Rust: 1801\n",
      "- shared words with C: 3483\n",
      "- shared words with Scala: 2462\n",
      "- shared words with R: 1763\n",
      "- shared words with Go: 3071\n",
      "- shared words with Mathematica: 1849\n",
      "- shared words with Kotlin: 2696\n",
      "- shared words with Fortran: 2591\n",
      "- shared words with Julia: 2042\n",
      "- shared words with PHP: 1776\n",
      "- shared words with MATLAB: 1567\n",
      "- shared words with Haskell: 3078\n",
      "- shared words with Perl: 2771\n",
      "\n",
      "\n",
      "------- Ruby -------\n",
      "- most common 30 words:\n",
      "['end', 'def', 'puts', 'do', 'if', 'new', 'the', 'each', 'self', 'class', 'and', 'value', 'to', 'length', 'map', 'size', 'of', 'is', '10', 'require', 'in', 'array', 'nil', 'str', 'return', 'true', 'times', 'for', 'ary', 'print']\n",
      "\n",
      "- all words in Ruby: 6796\n",
      "- unique words for Ruby: 1666\n",
      "\n",
      "- shared words with JavaScript: 2596\n",
      "- shared words with Swift: 1485\n",
      "- shared words with Python: 3893\n",
      "- shared words with Java: 3138\n",
      "- shared words with C++: 2775\n",
      "- shared words with Rust: 1855\n",
      "- shared words with C: 3457\n",
      "- shared words with Scala: 2738\n",
      "- shared words with R: 1872\n",
      "- shared words with Go: 3436\n",
      "- shared words with Mathematica: 2196\n",
      "- shared words with Kotlin: 2763\n",
      "- shared words with Fortran: 2738\n",
      "- shared words with Julia: 2153\n",
      "- shared words with PHP: 1903\n",
      "- shared words with MATLAB: 1754\n",
      "- shared words with Haskell: 3216\n",
      "- shared words with Perl: 3196\n",
      "\n",
      "\n",
      "------- Rust -------\n",
      "- most common 30 words:\n",
      "['let', 'fn', 'mut', 'self', 'println', 'for', 'vec', 'in', 'if', 'new', 'main', 'use', 'as', 'the', 'std', 'len', 'usize', 'iter', 'string', 'f64', 'value', 'u32', 'unwrap', 'is', 'i32', '10', 'to', 'else', 'item', 'of']\n",
      "\n",
      "- all words in Rust: 3993\n",
      "- unique words for Rust: 1190\n",
      "\n",
      "- shared words with JavaScript: 1721\n",
      "- shared words with Swift: 1103\n",
      "- shared words with Python: 2066\n",
      "- shared words with Java: 1819\n",
      "- shared words with C++: 1801\n",
      "- shared words with Ruby: 1855\n",
      "- shared words with C: 2000\n",
      "- shared words with Scala: 1675\n",
      "- shared words with R: 1237\n",
      "- shared words with Go: 2011\n",
      "- shared words with Mathematica: 1257\n",
      "- shared words with Kotlin: 1660\n",
      "- shared words with Fortran: 1844\n",
      "- shared words with Julia: 1370\n",
      "- shared words with PHP: 1299\n",
      "- shared words with MATLAB: 1201\n",
      "- shared words with Haskell: 1913\n",
      "- shared words with Perl: 1843\n",
      "\n",
      "\n",
      "------- C -------\n",
      "- most common 30 words:\n",
      "['int', 'if', 'return', 'for', 'include', 'printf', 'char', 'void', 'double', 'the', 'const', 'len', 'main', 'define', 'sizeof', 'stdio', 'to', 'null', 'while', 'is', 'of', 'buf', 'unsigned', 'struct', 'in', 'else', '10', 'string', 'stdlib', 'typedef']\n",
      "\n",
      "- all words in C: 11119\n",
      "- unique words for C: 4475\n",
      "\n",
      "- shared words with JavaScript: 2816\n",
      "- shared words with Swift: 1496\n",
      "- shared words with Python: 4292\n",
      "- shared words with Java: 3356\n",
      "- shared words with C++: 3483\n",
      "- shared words with Ruby: 3457\n",
      "- shared words with Rust: 2000\n",
      "- shared words with Scala: 2903\n",
      "- shared words with R: 1980\n",
      "- shared words with Go: 3807\n",
      "- shared words with Mathematica: 2242\n",
      "- shared words with Kotlin: 3177\n",
      "- shared words with Fortran: 3178\n",
      "- shared words with Julia: 2386\n",
      "- shared words with PHP: 1982\n",
      "- shared words with MATLAB: 1892\n",
      "- shared words with Haskell: 3706\n",
      "- shared words with Perl: 3422\n",
      "\n",
      "\n",
      "------- Scala -------\n",
      "- most common 30 words:\n",
      "['val', 'def', 'int', 'println', 'case', 'list', 'if', 'string', 'map', 'to', 'new', 'scala', 'else', 'the', 'double', 'object', 'import', 'for', 'size', 'array', 'extends', '10', '_1', 'bigint', 'length', 'match', 'of', '_2', 'seq', 'var']\n",
      "\n",
      "- all words in Scala: 6624\n",
      "- unique words for Scala: 1855\n",
      "\n",
      "- shared words with JavaScript: 2437\n",
      "- shared words with Swift: 1406\n",
      "- shared words with Python: 3076\n",
      "- shared words with Java: 3405\n",
      "- shared words with C++: 2462\n",
      "- shared words with Ruby: 2738\n",
      "- shared words with Rust: 1675\n",
      "- shared words with C: 2903\n",
      "- shared words with R: 1726\n",
      "- shared words with Go: 2911\n",
      "- shared words with Mathematica: 1911\n",
      "- shared words with Kotlin: 2943\n",
      "- shared words with Fortran: 2363\n",
      "- shared words with Julia: 1884\n"
     ]
    },
    {
     "name": "stdout",
     "output_type": "stream",
     "text": [
      "- shared words with PHP: 1686\n",
      "- shared words with MATLAB: 1560\n",
      "- shared words with Haskell: 2853\n",
      "- shared words with Perl: 2680\n",
      "\n",
      "\n",
      "------- R -------\n",
      "- most common 30 words:\n",
      "['function', 'if', 'the', 'in', 'print', 'length', 'for', 'cat', 'list', 'else', 'is', 'true', 'to', '10', 'as', 'of', 'paste', 'return', 'false', 'data', 'and', 'file', 'sum', 'matrix', 'col', 'value', 'sample', 'seq', 'ttl', 'while']\n",
      "\n",
      "- all words in R: 3550\n",
      "- unique words for R: 758\n",
      "\n",
      "- shared words with JavaScript: 1809\n",
      "- shared words with Swift: 999\n",
      "- shared words with Python: 2138\n",
      "- shared words with Java: 1845\n",
      "- shared words with C++: 1763\n",
      "- shared words with Ruby: 1872\n",
      "- shared words with Rust: 1237\n",
      "- shared words with C: 1980\n",
      "- shared words with Scala: 1726\n",
      "- shared words with Go: 2038\n",
      "- shared words with Mathematica: 1356\n",
      "- shared words with Kotlin: 1694\n",
      "- shared words with Fortran: 1824\n",
      "- shared words with Julia: 1398\n",
      "- shared words with PHP: 1285\n",
      "- shared words with MATLAB: 1281\n",
      "- shared words with Haskell: 1888\n",
      "- shared words with Perl: 1848\n",
      "\n",
      "\n",
      "------- Go -------\n",
      "- most common 30 words:\n",
      "['fmt', 'func', 'if', 'for', 'return', 'int', 'println', 'main', 'err', 'the', 'string', 'len', 'float64', 'package', 'import', 'range', 'var', 'to', 'nil', 'of', 'type', 'is', 'printf', 'math', 'case', 'in', 'time', 'make', 'and', 'os']\n",
      "\n",
      "- all words in Go: 8239\n",
      "- unique words for Go: 2280\n",
      "\n",
      "- shared words with JavaScript: 2892\n",
      "- shared words with Swift: 1610\n",
      "- shared words with Python: 4021\n",
      "- shared words with Java: 3402\n",
      "- shared words with C++: 3071\n",
      "- shared words with Ruby: 3436\n",
      "- shared words with Rust: 2011\n",
      "- shared words with C: 3807\n",
      "- shared words with Scala: 2911\n",
      "- shared words with R: 2038\n",
      "- shared words with Mathematica: 2235\n",
      "- shared words with Kotlin: 3054\n",
      "- shared words with Fortran: 3114\n",
      "- shared words with Julia: 2245\n",
      "- shared words with PHP: 1971\n",
      "- shared words with MATLAB: 1937\n",
      "- shared words with Haskell: 3558\n",
      "- shared words with Perl: 3267\n",
      "\n",
      "\n",
      "------- Mathematica -------\n",
      "- most common 30 words:\n",
      "['print', 'if', 'length', '10', 'range', 'module', 'list', 'data', 'the', 'n_', 'table', 'true', 'flatten', '11', 'mod', 'tostring', 'sun', 'and', '12', '100', '16', 'for', 'in', 'select', 'false', 'first', 'total', 'while', 'stringjoin', 'grid']\n",
      "\n",
      "- all words in Mathematica: 4586\n",
      "- unique words for Mathematica: 1488\n",
      "\n",
      "- shared words with JavaScript: 1800\n",
      "- shared words with Swift: 996\n",
      "- shared words with Python: 2381\n",
      "- shared words with Java: 2082\n",
      "- shared words with C++: 1849\n",
      "- shared words with Ruby: 2196\n",
      "- shared words with Rust: 1257\n",
      "- shared words with C: 2242\n",
      "- shared words with Scala: 1911\n",
      "- shared words with R: 1356\n",
      "- shared words with Go: 2235\n",
      "- shared words with Kotlin: 1940\n",
      "- shared words with Fortran: 1726\n",
      "- shared words with Julia: 1555\n",
      "- shared words with PHP: 1326\n",
      "- shared words with MATLAB: 1262\n",
      "- shared words with Haskell: 2206\n",
      "- shared words with Perl: 2033\n",
      "\n",
      "\n",
      "------- Kotlin -------\n",
      "- most common 30 words:\n",
      "['val', 'fun', 'println', 'if', 'string', 'in', 'int', 'for', 'array', 'var', 'args', 'return', 'main', 'version', 'it', 'size', 'to', 'else', 'import', 'java', 'this', 'print', 'the', 'math', '10', 'double', 'list', 'until', 'while', 'true']\n",
      "\n",
      "- all words in Kotlin: 6028\n",
      "- unique words for Kotlin: 886\n",
      "\n",
      "- shared words with JavaScript: 2425\n",
      "- shared words with Swift: 1384\n",
      "- shared words with Python: 3327\n",
      "- shared words with Java: 3608\n",
      "- shared words with C++: 2696\n",
      "- shared words with Ruby: 2763\n",
      "- shared words with Rust: 1660\n",
      "- shared words with C: 3177\n",
      "- shared words with Scala: 2943\n",
      "- shared words with R: 1694\n",
      "- shared words with Go: 3054\n",
      "- shared words with Mathematica: 1940\n",
      "- shared words with Fortran: 2328\n",
      "- shared words with Julia: 2121\n",
      "- shared words with PHP: 1676\n",
      "- shared words with MATLAB: 1596\n",
      "- shared words with Haskell: 3047\n",
      "- shared words with Perl: 2620\n",
      "\n",
      "\n",
      "------- Fortran -------\n",
      "- most common 30 words:\n",
      "['end', 'the', 'if', 'integer', 'do', 'write', 'to', 'in', 'of', 'call', 'is', 'then', 'function', 'and', 'character', 'subroutine', 'program', 'for', 'this', 'intent', '10', 'real', 'type', 'it', 'no', 'text', 'not', 'parameter', 'none', 'so']\n",
      "\n",
      "- all words in Fortran: 8023\n",
      "- unique words for Fortran: 3062\n",
      "\n",
      "- shared words with JavaScript: 2490\n",
      "- shared words with Swift: 1383\n",
      "- shared words with Python: 3148\n",
      "- shared words with Java: 2730\n",
      "- shared words with C++: 2591\n",
      "- shared words with Ruby: 2738\n",
      "- shared words with Rust: 1844\n",
      "- shared words with C: 3178\n",
      "- shared words with Scala: 2363\n",
      "- shared words with R: 1824\n",
      "- shared words with Go: 3114\n",
      "- shared words with Mathematica: 1726\n",
      "- shared words with Kotlin: 2328\n",
      "- shared words with Julia: 1876\n",
      "- shared words with PHP: 1684\n",
      "- shared words with MATLAB: 1745\n",
      "- shared words with Haskell: 2861\n",
      "- shared words with Perl: 2665\n",
      "\n",
      "\n",
      "------- Julia -------\n",
      "- most common 30 words:\n",
      "['end', 'println', 'for', 'in', 'function', 'return', 'if', 'length', 'julia', 'int', 'the', 'print', 'array', '10', 'integer', 'string', 'is', 'of', 'to', 'sprintf', 'true', 'while', 'else', 'hi', 'base', 'false', 'const', 'value', 'sum', 'and']\n",
      "\n",
      "- all words in Julia: 4159\n",
      "- unique words for Julia: 896\n",
      "\n",
      "- shared words with JavaScript: 1849\n",
      "- shared words with Swift: 1060\n",
      "- shared words with Python: 2544\n",
      "- shared words with Java: 2081\n",
      "- shared words with C++: 2042\n",
      "- shared words with Ruby: 2153\n",
      "- shared words with Rust: 1370\n",
      "- shared words with C: 2386\n",
      "- shared words with Scala: 1884\n",
      "- shared words with R: 1398\n",
      "- shared words with Go: 2245\n",
      "- shared words with Mathematica: 1555\n",
      "- shared words with Kotlin: 2121\n",
      "- shared words with Fortran: 1876\n",
      "- shared words with PHP: 1387\n",
      "- shared words with MATLAB: 1395\n",
      "- shared words with Haskell: 2255\n",
      "- shared words with Perl: 2013\n",
      "\n",
      "\n",
      "------- PHP -------\n",
      "- most common 30 words:\n",
      "['echo', 'if', 'array', 'return', 'function', 'php', 'the', 'this', 'arr', 'for', 'as', 'count', 'foreach', 'to', 'of', 'is', 'else', 'string', 'new', 'false', 'while', 'and', 'public', 'value', 'result', '10', 'in', 'number', 'true', 'int']\n",
      "\n",
      "- all words in PHP: 3341\n",
      "- unique words for PHP: 734\n",
      "\n",
      "- shared words with JavaScript: 1777\n",
      "- shared words with Swift: 1086\n",
      "- shared words with Python: 2078\n",
      "- shared words with Java: 1870\n",
      "- shared words with C++: 1776\n",
      "- shared words with Ruby: 1903\n",
      "- shared words with Rust: 1299\n",
      "- shared words with C: 1982\n",
      "- shared words with Scala: 1686\n",
      "- shared words with R: 1285\n",
      "- shared words with Go: 1971\n",
      "- shared words with Mathematica: 1326\n",
      "- shared words with Kotlin: 1676\n",
      "- shared words with Fortran: 1684\n",
      "- shared words with Julia: 1387\n",
      "- shared words with MATLAB: 1170\n",
      "- shared words with Haskell: 1781\n",
      "- shared words with Perl: 1930\n",
      "\n",
      "\n",
      "------- MATLAB -------\n",
      "- most common 30 words:\n",
      "['end', 'the', 'if', 'function', 'of', 'for', 'list', 'to', 'is', 'fprintf', 'and', 'in', 'ans', 'length', 'else', 'disp', 'fid', 'array', 'value', 'string', 'while', 'numel', 'sum', 'varargin', 'row', '10', 'input', 'not', 'number', 'column']\n",
      "\n",
      "- all words in MATLAB: 3530\n",
      "- unique words for MATLAB: 912\n",
      "\n",
      "- shared words with JavaScript: 1592\n",
      "- shared words with Swift: 978\n",
      "- shared words with Python: 1944\n",
      "- shared words with Java: 1783\n",
      "- shared words with C++: 1567\n",
      "- shared words with Ruby: 1754\n",
      "- shared words with Rust: 1201\n",
      "- shared words with C: 1892\n",
      "- shared words with Scala: 1560\n",
      "- shared words with R: 1281\n",
      "- shared words with Go: 1937\n",
      "- shared words with Mathematica: 1262\n",
      "- shared words with Kotlin: 1596\n",
      "- shared words with Fortran: 1745\n",
      "- shared words with Julia: 1395\n",
      "- shared words with PHP: 1170\n",
      "- shared words with Haskell: 1824\n",
      "- shared words with Perl: 1655\n",
      "\n",
      "\n",
      "------- Haskell -------\n",
      "- most common 30 words:\n",
      "['import', 'main', 'int', 'data', 'where', 'xs', 'the', 'do', 'show', 'string', 'putstrln', 'map', 'of', 'io', 'let', 'if', 'list', 'print', 'then', 'in', 'return', 'to', 'length', 'else', 'is', 'mapm_', '10', 'control', 'and', 'integer']\n",
      "\n",
      "- all words in Haskell: 8972\n",
      "- unique words for Haskell: 3269\n",
      "\n",
      "- shared words with JavaScript: 2841\n",
      "- shared words with Swift: 1479\n",
      "- shared words with Python: 3935\n",
      "- shared words with Java: 3242\n",
      "- shared words with C++: 3078\n",
      "- shared words with Ruby: 3216\n",
      "- shared words with Rust: 1913\n",
      "- shared words with C: 3706\n",
      "- shared words with Scala: 2853\n",
      "- shared words with R: 1888\n"
     ]
    },
    {
     "name": "stdout",
     "output_type": "stream",
     "text": [
      "- shared words with Go: 3558\n",
      "- shared words with Mathematica: 2206\n",
      "- shared words with Kotlin: 3047\n",
      "- shared words with Fortran: 2861\n",
      "- shared words with Julia: 2255\n",
      "- shared words with PHP: 1781\n",
      "- shared words with MATLAB: 1824\n",
      "- shared words with Perl: 3076\n",
      "\n",
      "\n",
      "------- Perl -------\n",
      "- most common 30 words:\n",
      "['my', 'print', 'sub', 'use', 'if', 'for', 'return', 'the', 'shift', 'qw', 'and', 'to', 'is', 'map', 'new', 'while', '10', 'of', 'or', 'strict', 'say', 'join', 'next', 'perl', 'push', 'foreach', 'sum', 'die', 'self', 'int']\n",
      "\n",
      "- all words in Perl: 6348\n",
      "- unique words for Perl: 1403\n",
      "\n",
      "- shared words with JavaScript: 2549\n",
      "- shared words with Swift: 1432\n",
      "- shared words with Python: 3643\n",
      "- shared words with Java: 2947\n",
      "- shared words with C++: 2771\n",
      "- shared words with Ruby: 3196\n",
      "- shared words with Rust: 1843\n",
      "- shared words with C: 3422\n",
      "- shared words with Scala: 2680\n",
      "- shared words with R: 1848\n",
      "- shared words with Go: 3267\n",
      "- shared words with Mathematica: 2033\n",
      "- shared words with Kotlin: 2620\n",
      "- shared words with Fortran: 2665\n",
      "- shared words with Julia: 2013\n",
      "- shared words with PHP: 1930\n",
      "- shared words with MATLAB: 1655\n",
      "- shared words with Haskell: 3076\n",
      "\n",
      "\n"
     ]
    }
   ],
   "source": [
    "word_counters = dict()\n",
    "for language in df_data_cpy[\"language\"].unique():\n",
    "    df = df_data_cpy.loc[df_data_cpy[\"language\"] == language]\n",
    "    df_words = df[\"file_body\"].apply(lambda x: tokenize(x))\n",
    "    \n",
    "    language_word_list = list()\n",
    "    for words in df_words.as_matrix():\n",
    "        language_word_list.extend(words)\n",
    "\n",
    "    word_counters[language] = Counter(language_word_list)    \n",
    "    \n",
    "for key, counter in word_counters.items():\n",
    "    print(\"------- {} -------\".format(key))\n",
    "    print(\"- most common 30 words:\\n{}\\n\".format([w[0] for w in counter.most_common(30)]))\n",
    "    \n",
    "    print(\"- all words in {}: {}\".format(key, len(counter.keys())))\n",
    "    \n",
    "    unique = [w for w in counter.keys() if \n",
    "              all(w not in c for k, c in word_counters.items() if k != key)]\n",
    "    \n",
    "    print(\"- unique words for {}: {}\\n\".format(key, len(unique)))\n",
    "    \n",
    "    for other_key, other_counter in word_counters.items():\n",
    "        if key == other_key:\n",
    "            continue\n",
    "        \n",
    "        top_thousand = [w for w in counter.keys()]\n",
    "        other_top_thousand = [w for w in other_counter.keys()]\n",
    "        shared_words = [i for i in top_thousand if i in other_top_thousand]\n",
    "        print(\"- shared words with {}: {}\".format(other_key, len(shared_words)))\n",
    "        \n",
    "    print(\"\\n\")"
   ]
  },
  {
   "cell_type": "markdown",
   "metadata": {},
   "source": [
    "#### Conclusions\n",
    "- it's tempting to use only unique words for programming language as a dictionary, but such model based on such solution won't work from data from outside dataset too well, especially for small code snippets \n",
    "- after removing digits and low frequency characters then number of unique characters per programming language should go down"
   ]
  }
 ],
 "metadata": {
  "kernelspec": {
   "display_name": "Python 3",
   "language": "python",
   "name": "python3"
  },
  "language_info": {
   "codemirror_mode": {
    "name": "ipython",
    "version": 3
   },
   "file_extension": ".py",
   "mimetype": "text/x-python",
   "name": "python",
   "nbconvert_exporter": "python",
   "pygments_lexer": "ipython3",
   "version": "3.6.1"
  }
 },
 "nbformat": 4,
 "nbformat_minor": 2
}
